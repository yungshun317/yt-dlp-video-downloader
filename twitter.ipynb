{
 "cells": [
  {
   "cell_type": "code",
   "execution_count": 1,
   "id": "63345c9c-c943-46b7-a335-64bb858c2a98",
   "metadata": {},
   "outputs": [
    {
     "name": "stdout",
     "output_type": "stream",
     "text": [
      "Extracting cookies from chrome\n",
      "\u001b[KExtracted 3334 cookies from chrome4042  1 files searched\n",
      "[twitter] Extracting URL: https://x.com/tsarnick/status/1778524418593218837\n",
      "[twitter] 1778524418593218837: Downloading GraphQL JSON\n",
      "[twitter] 1778524418593218837: Downloading m3u8 information\n",
      "[info] 1778524315761377280: Downloading 1 format(s): hls-399+hls-audio-128000-Audio\n",
      "[hlsnative] Downloading m3u8 manifest\n",
      "[hlsnative] Total fragments: 20\n",
      "[download] Destination: videos/Tsarathustra - Geoffrey Hinton says AI models have intuition, creativity and the ability to see analogies that people cannot see [1778524315761377280].fhls-399.mp4\n",
      "\u001b[K[download] 100% of    2.05MiB in \u001b[1;37m00:00:01\u001b[0m at \u001b[0;32m1.22MiB/s\u001b[0m[0;33m00:00\u001b[0m (frag 21/20)0)\n",
      "[hlsnative] Downloading m3u8 manifest\n",
      "[hlsnative] Total fragments: 21\n",
      "[download] Destination: videos/Tsarathustra - Geoffrey Hinton says AI models have intuition, creativity and the ability to see analogies that people cannot see [1778524315761377280].fhls-audio-128000-Audio.mp4\n",
      "\u001b[K[download] 100% of  952.83KiB in \u001b[1;37m00:00:01\u001b[0m at \u001b[0;32m602.86KiB/s\u001b[0m;33m00:00\u001b[0m (frag 22/21)1)\n",
      "[Merger] Merging formats into \"videos/Tsarathustra - Geoffrey Hinton says AI models have intuition, creativity and the ability to see analogies that people cannot see [1778524315761377280].mp4\"\n",
      "Deleting original file videos/Tsarathustra - Geoffrey Hinton says AI models have intuition, creativity and the ability to see analogies that people cannot see [1778524315761377280].fhls-399.mp4 (pass -k to keep)\n",
      "Deleting original file videos/Tsarathustra - Geoffrey Hinton says AI models have intuition, creativity and the ability to see analogies that people cannot see [1778524315761377280].fhls-audio-128000-Audio.mp4 (pass -k to keep)\n"
     ]
    }
   ],
   "source": [
    "!yt-dlp https://x.com/tsarnick/status/1778524418593218837 --paths videos --cookies-from-browser chrome"
   ]
  },
  {
   "cell_type": "code",
   "execution_count": null,
   "id": "951194b6-9fcf-42b1-95f0-1e533c8d7302",
   "metadata": {},
   "outputs": [],
   "source": []
  }
 ],
 "metadata": {
  "kernelspec": {
   "display_name": "Python 3 (ipykernel)",
   "language": "python",
   "name": "python3"
  },
  "language_info": {
   "codemirror_mode": {
    "name": "ipython",
    "version": 3
   },
   "file_extension": ".py",
   "mimetype": "text/x-python",
   "name": "python",
   "nbconvert_exporter": "python",
   "pygments_lexer": "ipython3",
   "version": "3.12.3"
  }
 },
 "nbformat": 4,
 "nbformat_minor": 5
}
